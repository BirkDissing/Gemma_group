{
 "cells": [
  {
   "cell_type": "code",
   "execution_count": null,
   "metadata": {},
   "outputs": [],
   "source": [
    "import numpy as np\n",
    "import pandas as pd\n",
    "from ase.io import read, write\n",
    "import matplotlib.pyplot as plt\n",
    "from sklearn.metrics import mean_absolute_percentage_error, mean_absolute_error\n",
    "import seaborn as sns\n",
    "\n",
    "\n",
    "plt.rc('font', family=\"sans-serif\", weight=\"bold\")          # controls default text sizes\n",
    "plt.rc('axes', labelsize=15, titlesize=15)    # x and y axes\n",
    "plt.rc('xtick', labelsize=15)    # Major Ticks\n",
    "plt.rc('ytick', labelsize=15)    # Major Ticks\n",
    "plt.rc('xtick.minor', visible=True)    # Minor Ticks\n",
    "plt.rc('ytick.minor', visible=True)    # Minor Ticks\n",
    "plt.rc('legend', fontsize=10)    # Legend\n",
    "plt.rc('figure', titlesize=10)  # Figure title\n",
    "\n",
    "\n",
    "plt.rcParams['figure.dpi'] = 300\n",
    "print(plt.rcParams['font.family'])"
   ]
  },
  {
   "cell_type": "markdown",
   "metadata": {},
   "source": [
    "# Load data"
   ]
  },
  {
   "cell_type": "code",
   "execution_count": null,
   "metadata": {},
   "outputs": [],
   "source": [
    "ref_simulation = read(\"Data\\EtOH_moldyn_single.xyz\")"
   ]
  },
  {
   "cell_type": "markdown",
   "metadata": {},
   "source": [
    "# Energy"
   ]
  },
  {
   "cell_type": "code",
   "execution_count": null,
   "metadata": {},
   "outputs": [],
   "source": []
  },
  {
   "cell_type": "markdown",
   "metadata": {},
   "source": [
    "# Angles"
   ]
  },
  {
   "cell_type": "code",
   "execution_count": null,
   "metadata": {},
   "outputs": [],
   "source": []
  },
  {
   "cell_type": "markdown",
   "metadata": {},
   "source": [
    "# Dihedral angles"
   ]
  },
  {
   "cell_type": "code",
   "execution_count": null,
   "metadata": {},
   "outputs": [],
   "source": []
  }
 ],
 "metadata": {
  "kernelspec": {
   "display_name": "base",
   "language": "python",
   "name": "python3"
  },
  "language_info": {
   "name": "python",
   "version": "3.8.8"
  }
 },
 "nbformat": 4,
 "nbformat_minor": 2
}
