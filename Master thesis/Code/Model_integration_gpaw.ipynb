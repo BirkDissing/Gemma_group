{
 "cells": [
  {
   "cell_type": "code",
   "execution_count": 19,
   "metadata": {},
   "outputs": [],
   "source": [
    "import numpy as np\n",
    "import pandas as pd\n",
    "from ase import Atoms\n",
    "from ase import neighborlist\n",
    "from ase import units\n",
    "from ase.io import read, write\n",
    "from ase.io.trajectory import Trajectory\n",
    "from ase.md.verlet import VelocityVerlet\n",
    "from ase.md.velocitydistribution import MaxwellBoltzmannDistribution\n",
    "from ase.io.extxyz import read_extxyz, write_extxyz\n",
    "import statsmodels.api as sm\n",
    "import matplotlib.pyplot as plt"
   ]
  },
  {
   "cell_type": "code",
   "execution_count": 20,
   "metadata": {},
   "outputs": [],
   "source": [
    "pred_step = 4\n",
    "input = 6\n",
    "file = r\"Data\\EtOH_moldyn_single.xyz\"\n",
    "\n",
    "#The function takes arrays of forces and returns a VAR OLS model\n",
    "#_____Inputs______\n",
    "# main - 1D np array with the time series which the model fits to.\n",
    "# secondary - 2D np array with the secondary time series used to predict the main time series\n",
    "# order - Positive integer which decides the numper of points in the past is used to predict the next point\n",
    "#\n",
    "#_____Output______\n",
    "# Returns a OLS model that uses the main and secondary time series to predict the main time series. In order to predict t+2 of the main timeseries,\n",
    "# t+1 of both main and secondary time series must be known. If the values of the secondary time series is not known this can be done by also creating models\n",
    "# for the secondary time series and use those to predict the value at t+1\n",
    "def create_VAR_OLS_model(main, secondary, order=2):\n",
    "    input = len(main)-order\n",
    "    num_secondaries = secondary.shape[0]\n",
    "    X = np.zeros([input,order*(num_secondaries+1)+1])\n",
    "    for i in range(order):\n",
    "        X[:,i*(num_secondaries+1)] = main[i:input+i]\n",
    "        for j in range(num_secondaries):\n",
    "            X[:,i*(num_secondaries+1)+j+1] = secondary[j,i:input+i]\n",
    "    X[:,-1] = np.ones(len(main)-order)\n",
    "    return sm.OLS(main[order:], X)\n",
    "\n",
    "#\n",
    "def create_atom_OLS_model(forces, order=2):\n",
    "    model_x = create_VAR_OLS_model(forces[:,0], forces[:,1:], order=order).fit_regularized(l1_wt=0)\n",
    "    model_y = create_VAR_OLS_model(forces[:,1], forces[:,[0,2]], order=order).fit_regularized(l1_wt=0)\n",
    "    model_z = create_VAR_OLS_model(forces[:,2], forces[:,:2], order=order).fit_regularized(l1_wt=0)\n",
    "    return model_x, model_y, model_z\n",
    "\n",
    "def predict_forces(file=file, input=input, pred_step=pred_step, order=2):\n",
    "    mol = read(file, index=slice(-input, None))\n",
    "    n_atoms = mol[0].get_global_number_of_atoms()\n",
    "    predicted_forces = np.zeros((n_atoms, 3, pred_step))\n",
    "    forces = np.zeros((n_atoms, 3, input))\n",
    "\n",
    "    for i in range(len(mol)):\n",
    "        forces[:,:,i] = mol[i].get_forces()\n",
    "    for i in range(n_atoms):\n",
    "        model_x, model_y, model_z = create_atom_OLS_model(forces[:,:,:input], order=order)\n",
    "        forecast_forces = np.zeros((3, pred_step+order))\n",
    "        forecast_forces[:,:order] = forces[i,:,-order:]\n",
    "        for j in range(pred_step):\n",
    "            input_x = np.array([forecast_forces[0,j], forecast_forces[1,j], forecast_forces[2,j],forecast_forces[0,j+1], forecast_forces[1,j+1], forecast_forces[2,j+1], 1])\n",
    "            input_y = np.array([forecast_forces[1,j], forecast_forces[0,j], forecast_forces[2,j],forecast_forces[1,j+1], forecast_forces[0,j+1], forecast_forces[2,j+1], 1])\n",
    "            input_z = np.array([forecast_forces[2,j], forecast_forces[0,j], forecast_forces[1,j],forecast_forces[2,j+1], forecast_forces[0,j+1], forecast_forces[1,j+1], 1])\n",
    "            forecast_forces[0,order+j] = model_x.predict(input_x)\n",
    "            forecast_forces[1,order+j] = model_y.predict(input_y)\n",
    "            forecast_forces[2,order+j] = model_z.predict(input_z)\n",
    "        predicted_forces[i,:,:] = forecast_forces[:,2:]\n",
    "        \n",
    "    return predicted_forces\n",
    "\n"
   ]
  }
 ],
 "metadata": {
  "kernelspec": {
   "display_name": "base",
   "language": "python",
   "name": "python3"
  },
  "language_info": {
   "codemirror_mode": {
    "name": "ipython",
    "version": 3
   },
   "file_extension": ".py",
   "mimetype": "text/x-python",
   "name": "python",
   "nbconvert_exporter": "python",
   "pygments_lexer": "ipython3",
   "version": "3.8.8"
  }
 },
 "nbformat": 4,
 "nbformat_minor": 2
}
